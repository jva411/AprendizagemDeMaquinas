{
 "cells": [
  {
   "cell_type": "code",
   "execution_count": 6,
   "metadata": {},
   "outputs": [],
   "source": [
    "import numpy as np\n",
    "import regressao_linear as rl\n",
    "import matplotlib.pyplot as plt"
   ]
  },
  {
   "cell_type": "code",
   "execution_count": 7,
   "metadata": {},
   "outputs": [
    {
     "name": "stdout",
     "output_type": "stream",
     "text": [
      "(30, 2)\n",
      "(30, 2) (30, 1) (2, 1)\n"
     ]
    }
   ],
   "source": [
    "dataset = np.genfromtxt('./pressão.txt', delimiter=',', skip_header=1)\n",
    "print(dataset.shape)\n",
    "n, m = dataset.shape\n",
    "\n",
    "x = np.c_[np.ones((n, m-1)), dataset[:, -2].reshape((-1, m-1))]\n",
    "y = dataset[:, -1].reshape((-1, 1))\n",
    "w = np.array([1, 1]).reshape((1, -1)).T\n",
    "\n",
    "print(x.shape, y.shape, w.shape)"
   ]
  },
  {
   "cell_type": "code",
   "execution_count": 3,
   "metadata": {},
   "outputs": [
    {
     "name": "stdout",
     "output_type": "stream",
     "text": [
      "[[98.71471814]\n",
      " [ 0.97087035]]\n",
      "16.726669305279202\n"
     ]
    }
   ],
   "source": [
    "w = rl.OLS(x, y)\n",
    "print(w)\n",
    "print(rl.RMSE(x, y, w))"
   ]
  },
  {
   "cell_type": "code",
   "execution_count": 11,
   "metadata": {},
   "outputs": [
    {
     "name": "stdout",
     "output_type": "stream",
     "text": [
      "(2, 1)\n",
      "[[98.66018344]\n",
      " [ 0.97195798]]\n"
     ]
    },
    {
     "data": {
      "image/png": "[encoded data removed]",
      "text/plain": [
       "<Figure size 432x288 with 1 Axes>"
      ]
     },
     "metadata": {
      "needs_background": "light"
     },
     "output_type": "display_data"
    }
   ],
   "source": [
    "w = np.array([1, 1]).reshape((1, -1)).T\n",
    "print(w.shape)\n",
    "\n",
    "alpha = 0.00001\n",
    "epochs = 250000\n",
    "\n",
    "w, custos = rl.GD(x, y, w, alpha, epochs)\n",
    "\n",
    "print(w)\n",
    "\n",
    "plt.title('Função custo')\n",
    "plt.plot(custos)\n",
    "plt.show()"
   ]
  },
  {
   "cell_type": "code",
   "execution_count": 16,
   "metadata": {},
   "outputs": [
    {
     "name": "stdout",
     "output_type": "stream",
     "text": [
      "(2, 1)\n",
      "[[98.12430166]\n",
      " [ 0.9620063 ]]\n"
     ]
    },
    {
     "data": {
      "text/plain": [
       "[<matplotlib.lines.Line2D at 0x2acaceef430>]"
      ]
     },
     "execution_count": 16,
     "metadata": {},
     "output_type": "execute_result"
    },
    {
     "data": {
      "image/png": "[encoded data removed]",
      "text/plain": [
       "<Figure size 432x288 with 1 Axes>"
      ]
     },
     "metadata": {
      "needs_background": "light"
     },
     "output_type": "display_data"
    }
   ],
   "source": [
    "w = np.array([1, 1]).reshape((1, -1)).T\n",
    "print(w.shape)\n",
    "\n",
    "alpha = 0.00005\n",
    "epochs = 20000\n",
    "\n",
    "w, custos = rl.SGD(x, y, w, alpha, epochs)\n",
    "\n",
    "print(w)\n",
    "\n",
    "print('Função Custo')\n",
    "plt.plot(custos)"
   ]
  }
 ],
 "metadata": {
  "interpreter": {
   "hash": "dbd45bce3b2261730f72e643c838d72b7dd25bcfeccf1b53485a8af2ca7a6d9f"
  },
  "kernelspec": {
   "display_name": "Python 3.10.4 64-bit (windows store)",
   "language": "python",
   "name": "python3"
  },
  "language_info": {
   "codemirror_mode": {
    "name": "ipython",
    "version": 3
   },
   "file_extension": ".py",
   "mimetype": "text/x-python",
   "name": "python",
   "nbconvert_exporter": "python",
   "pygments_lexer": "ipython3",
   "version": "3.10.4"
  },
  "orig_nbformat": 4
 },
 "nbformat": 4,
 "nbformat_minor": 2
}
